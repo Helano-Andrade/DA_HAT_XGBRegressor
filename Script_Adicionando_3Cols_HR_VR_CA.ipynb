{
 "cells": [
  {
   "cell_type": "code",
   "execution_count": null,
   "metadata": {},
   "outputs": [],
   "source": [
    "#Em resumo:\n",
    "# O código lê um arquivo CSV, adiciona 3 colunas com valores constantes:\n",
    "# Horiz.Res - Resistividade Horizontal,\n",
    "# Vert.Res - Resistividade Vertical e\n",
    "# CA - coeficiente de anisotropia\n",
    "# depois  salva o DataFrame modificado como um novo arquivo CSV.\n",
    "# Adicionei ao nome do arquivo original (_cols) indicando que novas colunas estão presentes.\n",
    "\n",
    "import pandas as pd\n",
    "\n",
    "# Caminho do arquivo original\n",
    "input_path = '/content/Jubarte_JUB20_2002H_74.1V_98.5.csv'\n",
    "\n",
    "# Carregar o arquivo CSV no pandas DataFrame\n",
    "df = pd.read_csv(input_path)\n",
    "\n",
    "# Valores extraídos do nome do arquivo\n",
    "horiz_res_value = 74.1\n",
    "vert_res_value = 98.5\n",
    "coeficiente_anisotropia_value = 1.33\n",
    "\n",
    "# Inserir as novas colunas no DataFrame\n",
    "df['Horiz.Res'] = horiz_res_value\n",
    "df['Vert.Res'] = vert_res_value\n",
    "df['CA'] = coeficiente_anisotropia_value\n",
    "\n",
    "# Caminho para salvar o novo dataset\n",
    "output_path = '/content/Jubarte_JUB20_2002H_74.1V_98.5_cols.csv'\n",
    "\n",
    "# Salvar o DataFrame modificado em um novo arquivo CSV\n",
    "df.to_csv(output_path, index=False)\n",
    "\n",
    "print(f\"Novo arquivo salvo em: {output_path}\")"
   ]
  }
 ],
 "metadata": {
  "language_info": {
   "name": "python"
  }
 },
 "nbformat": 4,
 "nbformat_minor": 2
}
