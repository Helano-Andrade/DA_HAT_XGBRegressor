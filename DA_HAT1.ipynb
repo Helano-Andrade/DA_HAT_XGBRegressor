{
 "cells": [
  {
   "cell_type": "code",
   "execution_count": null,
   "metadata": {},
   "outputs": [],
   "source": [
    "import numpy as np\n",
    "import pandas as pd\n",
    "\n",
    "def augment_continuous_feature(X, n):\n",
    "    Y = X.copy().tolist()\n",
    "    while len(Y) < n:\n",
    "        H, bin_edges = np.histogram(X, bins='doane')\n",
    "        bin_widths = np.diff(bin_edges)\n",
    "        bin_centers = (bin_edges[:-1] + bin_edges[1:]) / 2\n",
    "\n",
    "        for i in range(len(H)):\n",
    "            bin_count = H[i]\n",
    "            if bin_count > 0:\n",
    "                random_vals = np.random.normal(bin_centers[i], bin_widths[i] * 0.25, bin_count)\n",
    "                Y.extend(random_vals.tolist())\n",
    "                if len(Y) >= n:\n",
    "                    break\n",
    "        X = Y.copy()\n",
    "    np.random.shuffle(Y)\n",
    "    return Y[:n]\n",
    "\n",
    "# Exemplo de uso:\n",
    "df = pd.read_csv('/content/Jubarte_SEx_Ex_Ez_EW01_2002_Poly3_AI_MCD.csv')\n",
    "columns_to_augment = ['RxGridE', 'RxGridN', 'RxElev', 'Altitude Receiver', 'Freq', 'SourceGridE', 'SourceGridN', 'SourceElev', 'Altitude Source [positive from Seabottom]', 'Offset', 'AmpObs', 'PhaseObs', 'AmpErr', 'PhaseErr', 'AmpMod', 'PhaseMod']\n",
    "n_samples = 200000  # Número desejado de amostras após o aumento\n",
    "\n",
    "augmented_data = {column: augment_continuous_feature(df[column].values, n_samples) for column in columns_to_augment}\n",
    "\n",
    "# Criar um novo dataframe com os dados aumentados\n",
    "augmented_df = pd.DataFrame(augmented_data)\n",
    "\n",
    "# Adicionar as características discretas ao novo dataframe\n",
    "for column in ['Stn', 'SourceParameters', 'StnID', 'LineID']:\n",
    "    augmented_df[column] = np.random.choice(df[column], n_samples)\n",
    "\n",
    "# Salvar o novo dataframe aumentado\n",
    "augmented_df.to_csv('/content/Jubarte_SEx_Ex_Ez_EW01_2002_Poly3_AI_MCD_augmented.csv', index=False)"
   ]
  },
  {
   "cell_type": "code",
   "execution_count": null,
   "metadata": {},
   "outputs": [],
   "source": []
  }
 ],
 "metadata": {
  "language_info": {
   "name": "python"
  }
 },
 "nbformat": 4,
 "nbformat_minor": 2
}
